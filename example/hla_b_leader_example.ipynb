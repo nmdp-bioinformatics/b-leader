{
 "cells": [
  {
   "cell_type": "markdown",
   "metadata": {},
   "source": [
    "# Setup"
   ]
  },
  {
   "cell_type": "markdown",
   "metadata": {},
   "source": [
    "## Dependencies"
   ]
  },
  {
   "cell_type": "code",
   "execution_count": null,
   "metadata": {},
   "outputs": [],
   "source": [
    "import pandas as pd\n",
    "import os.path\n",
    "from os import path\n",
    "import requests\n",
    "import json"
   ]
  },
  {
   "cell_type": "markdown",
   "metadata": {},
   "source": [
    "## Files"
   ]
  },
  {
   "cell_type": "markdown",
   "metadata": {},
   "source": [
    "Filepaths for relevant files (full dataset and trimmed dataset):"
   ]
  },
  {
   "cell_type": "code",
   "execution_count": null,
   "metadata": {},
   "outputs": [],
   "source": [
    "hla_save_name = 'hla_save_dec19.xlsx'\n",
    "hla_save_trimmed_name = 'hla_save_dec19_Bmm_only.tabular'"
   ]
  },
  {
   "cell_type": "markdown",
   "metadata": {},
   "source": [
    "## Functions\n"
   ]
  },
  {
   "cell_type": "markdown",
   "metadata": {},
   "source": [
    "Function for quickly obtaining column names:"
   ]
  },
  {
   "cell_type": "code",
   "execution_count": null,
   "metadata": {},
   "outputs": [],
   "source": [
    "def get_cols(df, substring):\n",
    "    return list(df.columns[df.columns.str.contains(substring)])"
   ]
  },
  {
   "cell_type": "markdown",
   "metadata": {},
   "source": [
    "# HLA-B Leader "
   ]
  },
  {
   "cell_type": "markdown",
   "metadata": {},
   "source": [
    "## HLA SAVE"
   ]
  },
  {
   "cell_type": "markdown",
   "metadata": {},
   "source": [
    "### Filtering\n",
    "If the HLA SAVE file has not been trimmed to have only HLA-B single mismatches, then the following chunk runs code to do so. Otherwise, it reads from the trimmed file."
   ]
  },
  {
   "cell_type": "code",
   "execution_count": null,
   "metadata": {
    "scrolled": true
   },
   "outputs": [],
   "source": [
    "if not path.exists(hla_save_trimmed_name):\n",
    "    hla_save = pd.read_excel(hla_save_name)\n",
    "    hla_save_b = hla_save.dropna(subset=['B_RES_MG']) # Drop rows without B locus match grades\n",
    "    hla_save_b = hla_save_b[hla_save_b.B_RES_MG.str.contains('mm')] # Filter to rows with mismatches\n",
    "    hla_save_b.to_csv(hla_save_trimmed_name)\n",
    "else:\n",
    "    hla_save_b = pd.read_csv(hla_save_trimmed_name)\n",
    "hla_save_b.head(10)"
   ]
  },
  {
   "cell_type": "markdown",
   "metadata": {},
   "source": [
    "## Columns"
   ]
  },
  {
   "cell_type": "markdown",
   "metadata": {},
   "source": [
    "Let's examine what columns are available regarding the HLA-B locus:"
   ]
  },
  {
   "cell_type": "code",
   "execution_count": null,
   "metadata": {
    "scrolled": true
   },
   "outputs": [],
   "source": [
    "hla_save_b[get_cols(hla_save_b, 'B_')]"
   ]
  },
  {
   "cell_type": "markdown",
   "metadata": {},
   "source": [
    "# REST Endpoints\n",
    "Let's go through each REST call useful for leader annotation and process a row from our HLA dataset as inputs."
   ]
  },
  {
   "cell_type": "markdown",
   "metadata": {},
   "source": [
    "## HLA-B Leader Allotype Classification"
   ]
  },
  {
   "cell_type": "markdown",
   "metadata": {},
   "source": [
    "### Row\n",
    "This is the example row for the function set up. Feel free to change the indexing to a different row:"
   ]
  },
  {
   "cell_type": "code",
   "execution_count": null,
   "metadata": {},
   "outputs": [],
   "source": [
    "row = hla_save_b.iloc[1]\n",
    "row"
   ]
  },
  {
   "cell_type": "markdown",
   "metadata": {},
   "source": [
    "### Parameters"
   ]
  },
  {
   "cell_type": "markdown",
   "metadata": {},
   "source": [
    "The parameter for this first GET endpoint is simply a B allele. For example:"
   ]
  },
  {
   "cell_type": "code",
   "execution_count": null,
   "metadata": {},
   "outputs": [],
   "source": [
    "param = row['R_B_TYP1']"
   ]
  },
  {
   "cell_type": "markdown",
   "metadata": {},
   "source": [
    "### REST Call"
   ]
  },
  {
   "cell_type": "markdown",
   "metadata": {},
   "source": [
    "This function calls the local server to classify the leader type of an HLA-B allele."
   ]
  },
  {
   "cell_type": "code",
   "execution_count": null,
   "metadata": {},
   "outputs": [],
   "source": [
    "def classify_leader_allotype(hla_b):\n",
    "    if 'B*' not in hla_b:\n",
    "        hla_b = 'B*' + hla_b\n",
    "    url = \"http://localhost:5010/b-leader-classification/allotype/\" + hla_b\n",
    "    headers = {'content-type': 'application/json'}\n",
    "    try:\n",
    "        response = requests.get(url,\n",
    "                                headers=headers)\n",
    "        results = json.loads(response.content)\n",
    "        return results\n",
    "    except Exception as e:\n",
    "        raise e\n",
    "classify_leader_allotype(param)"
   ]
  },
  {
   "cell_type": "markdown",
   "metadata": {},
   "source": [
    "## HLA-B Leader Genotype Classification"
   ]
  },
  {
   "cell_type": "markdown",
   "metadata": {},
   "source": [
    "This GET endpoint is essentially the same endpoint as the previous one but doubled. A genotype (containing two HLA-B allotypes) are leader classified in this endpoint."
   ]
  },
  {
   "cell_type": "markdown",
   "metadata": {},
   "source": [
    "### Parameter"
   ]
  },
  {
   "cell_type": "markdown",
   "metadata": {},
   "source": [
    "Input for this endpoint is two HLA-B allotypes joined by a '+':"
   ]
  },
  {
   "cell_type": "code",
   "execution_count": null,
   "metadata": {},
   "outputs": [],
   "source": [
    "def format_genotype_input(row, prefix):\n",
    "    return '+'.join(['B*' + hla_b for hla_b in row[get_cols(hla_save_b, prefix + '_B_TYP')]])\n",
    "params = format_genotype_input(row, 'R')\n",
    "params"
   ]
  },
  {
   "cell_type": "markdown",
   "metadata": {},
   "source": [
    "### REST Call\n",
    "Note that this is a POST endpoint, rather than a GET endpoint. The leader genotype is classified here:"
   ]
  },
  {
   "cell_type": "code",
   "execution_count": null,
   "metadata": {},
   "outputs": [],
   "source": [
    "def classify_leader_genotype(hla_b_genotype):\n",
    "    print(hla_b_genotype)\n",
    "    url = \"http://localhost:5010/b-leader-classification/genotype/\" + hla_b_genotype\n",
    "    headers = {'content-type': 'application/json'}\n",
    "    try:\n",
    "        response = requests.get(url,\n",
    "                                headers=headers)\n",
    "        results = json.loads(response.content)\n",
    "        return results\n",
    "    except Exception as e:\n",
    "        raise e\n",
    "classify_leader_genotype(params)"
   ]
  },
  {
   "cell_type": "markdown",
   "metadata": {},
   "source": [
    "## HLA-B Leader Matching\n",
    "This endpoint classifies the leader types of the genotype of a patient and the genotype(s) of donor(s). Matching statuses and ranking information is included here as well:"
   ]
  },
  {
   "cell_type": "markdown",
   "metadata": {},
   "source": [
    "### Parameter\n",
    "The POST input parameter for this endpoint is formatted as follows:"
   ]
  },
  {
   "cell_type": "code",
   "execution_count": null,
   "metadata": {
    "scrolled": true
   },
   "outputs": [],
   "source": [
    "def format_matching_input(row):\n",
    "    param = ('{\"hla-b_genotype_patient\":{\"id\": \"%s\", \"genotype\" : \"%s\"},'\n",
    "              '\"hla-b_genotype_donors\":[{\"id\": \"%s\", \"genotype\" : \"%s\"}]}' %\n",
    "             ('recipient id', format_genotype_input(row, 'R'),\n",
    "              'donor id', format_genotype_input(row, 'D')))\n",
    "    return param\n",
    "params = format_matching_input(row)\n",
    "params"
   ]
  },
  {
   "cell_type": "markdown",
   "metadata": {},
   "source": [
    "### REST Call\n",
    "The POST REST call takes in the above parameters:"
   ]
  },
  {
   "cell_type": "code",
   "execution_count": null,
   "metadata": {
    "scrolled": false
   },
   "outputs": [],
   "source": [
    "def classify_leader_matching(params):\n",
    "    url = \"http://localhost:5010/b-leader-match/status\"\n",
    "    headers = {'content-type': 'application/json'}\n",
    "    try:\n",
    "        response = requests.post(\n",
    "             url,\n",
    "            headers=headers,\n",
    "            data=params)\n",
    "        results = json.loads(response.content)\n",
    "        return results\n",
    "    except Exception as e:\n",
    "        raise e\n",
    "classify_leader_matching(format_matching_input(row))"
   ]
  },
  {
   "cell_type": "markdown",
   "metadata": {},
   "source": [
    "# Iterating through the dataset\n",
    "With all these functions set up, we can iterate through a list of recipient-donor typings to get our leader match statuses."
   ]
  },
  {
   "cell_type": "code",
   "execution_count": null,
   "metadata": {
    "scrolled": true
   },
   "outputs": [],
   "source": [
    "for index, row in hla_save_b.iterrows():\n",
    "\n",
    "    result = classify_leader_matching(format_matching_input(row))\n",
    "    if len(result):\n",
    "        hla_save_b.loc[index, ''] = result[0]['leader_match_status']\n",
    "hla_save_b"
   ]
  },
  {
   "cell_type": "markdown",
   "metadata": {},
   "source": [
    "# Done!\n",
    "This is the end of the demonstration. Thank you! Please use this notebook and any of the above chunks for your own use."
   ]
  }
 ],
 "metadata": {
  "kernelspec": {
   "display_name": "Python 3.7.4 64-bit ('venv': venv)",
   "language": "python",
   "name": "python37464bitvenvvenv5760d5ff5139422a8cf61e58e5980ac0"
  },
  "language_info": {
   "codemirror_mode": {
    "name": "ipython",
    "version": 3
   },
   "file_extension": ".py",
   "mimetype": "text/x-python",
   "name": "python",
   "nbconvert_exporter": "python",
   "pygments_lexer": "ipython3",
   "version": "3.7.4"
  }
 },
 "nbformat": 4,
 "nbformat_minor": 4
}
