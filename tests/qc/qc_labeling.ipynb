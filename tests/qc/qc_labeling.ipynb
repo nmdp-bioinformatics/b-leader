{
 "cells": [
  {
   "cell_type": "markdown",
   "metadata": {},
   "source": [
    "# Setup"
   ]
  },
  {
   "cell_type": "markdown",
   "metadata": {},
   "source": [
    "## Dependencies"
   ]
  },
  {
   "cell_type": "code",
   "execution_count": null,
   "metadata": {},
   "outputs": [],
   "source": [
    "import pandas as pd\n",
    "import os.path\n",
    "from os import path\n",
    "import requests\n",
    "import json"
   ]
  },
  {
   "cell_type": "markdown",
   "metadata": {},
   "source": [
    "## Files"
   ]
  },
  {
   "cell_type": "code",
   "execution_count": null,
   "metadata": {},
   "outputs": [],
   "source": [
    "qc_file = 'Quality Control File 073020.xlsx'\n",
    "qc_out_file = 'Quality Control File 073020 with Leaders.xlsx'"
   ]
  },
  {
   "cell_type": "markdown",
   "metadata": {},
   "source": [
    "## Functions\n"
   ]
  },
  {
   "cell_type": "markdown",
   "metadata": {},
   "source": [
    "Function for quickly obtaining column names:"
   ]
  },
  {
   "cell_type": "code",
   "execution_count": null,
   "metadata": {},
   "outputs": [],
   "source": [
    "def get_cols(df, substring):\n",
    "    return list(df.columns[df.columns.str.contains(substring)])"
   ]
  },
  {
   "cell_type": "markdown",
   "metadata": {},
   "source": [
    "# HLA-B Leader "
   ]
  },
  {
   "cell_type": "code",
   "execution_count": null,
   "metadata": {},
   "outputs": [],
   "source": [
    "qc_df = pd.read_excel(qc_file)\n",
    "qc_df"
   ]
  },
  {
   "cell_type": "markdown",
   "metadata": {},
   "source": [
    "# REST Endpoints\n",
    "Let's go through each REST call useful for leader annotation and process a row from our HLA dataset as inputs."
   ]
  },
  {
   "cell_type": "markdown",
   "metadata": {},
   "source": [
    "## HLA-B Leader Allotype Classification"
   ]
  },
  {
   "cell_type": "markdown",
   "metadata": {},
   "source": [
    "### Row\n",
    "This is the example row for the function set up. Feel free to change the indexing to a different row:"
   ]
  },
  {
   "cell_type": "code",
   "execution_count": null,
   "metadata": {},
   "outputs": [],
   "source": [
    "row = qc_df.iloc[1]\n",
    "row"
   ]
  },
  {
   "cell_type": "markdown",
   "metadata": {},
   "source": [
    "### Parameters"
   ]
  },
  {
   "cell_type": "markdown",
   "metadata": {},
   "source": [
    "The parameter for this first GET endpoint is simply a B allele. For example:"
   ]
  },
  {
   "cell_type": "code",
   "execution_count": null,
   "metadata": {},
   "outputs": [],
   "source": [
    "param = row['HLA_B 1']\n",
    "param"
   ]
  },
  {
   "cell_type": "markdown",
   "metadata": {},
   "source": [
    "### REST Call"
   ]
  },
  {
   "cell_type": "markdown",
   "metadata": {},
   "source": [
    "This function calls the local server to classify the leader type of an HLA-B allele."
   ]
  },
  {
   "cell_type": "code",
   "execution_count": null,
   "metadata": {},
   "outputs": [],
   "source": [
    "def classify_leader_allotype(hla_b):\n",
    "    if 'B*' not in hla_b:\n",
    "        hla_b = 'B*' + hla_b\n",
    "    url = \"http://localhost:5010/b-leader-classification/allotype\"\n",
    "    headers = {'content-type': 'application/json'}\n",
    "    params = {'allele' : hla_b}\n",
    "    try:\n",
    "        response = requests.post(url,\n",
    "                                headers=headers,\n",
    "                                data=json.dumps(params))\n",
    "        results = json.loads(response.content)\n",
    "        return results\n",
    "    except Exception as e:\n",
    "        print(e)\n",
    "        raise e\n",
    "classify_leader_allotype(param)[0]['common_leader']"
   ]
  },
  {
   "cell_type": "code",
   "execution_count": null,
   "metadata": {
    "scrolled": false
   },
   "outputs": [],
   "source": [
    "for index, row in qc_df.iterrows():\n",
    "    if index % 10 == 0:\n",
    "        print(index)\n",
    "    for i in range(2):\n",
    "        results = classify_leader_allotype(row['HLA_B %s' % (i+1)])\n",
    "        leader_type = results[0]['common_leader']\n",
    "        if leader_type not in ['M', 'T']:\n",
    "            print(index, leader_type, results)\n",
    "        qc_df.loc[index, 'Leader %s' % (i+1)] = leader_type\n",
    "qc_df.to_xlsx(qc_out_file)"
   ]
  },
  {
   "cell_type": "code",
   "execution_count": null,
   "metadata": {
    "scrolled": true
   },
   "outputs": [],
   "source": [
    "qc_df.to_excel(qc_out_file)"
   ]
  },
  {
   "cell_type": "markdown",
   "metadata": {},
   "source": [
    "# Iterating through the dataset\n",
    "With all these functions set up, we can iterate through a list of recipient-donor typings to get our leader match statuses."
   ]
  },
  {
   "cell_type": "markdown",
   "metadata": {},
   "source": [
    "# Done!\n",
    "This is the end of the demonstration. Thank you! Please use this notebook and any of the above chunks for your own use."
   ]
  }
 ],
 "metadata": {
  "kernelspec": {
   "display_name": "Python 3.7.4 64-bit ('venv': venv)",
   "language": "python",
   "name": "python37464bitvenvvenv5760d5ff5139422a8cf61e58e5980ac0"
  },
  "language_info": {
   "codemirror_mode": {
    "name": "ipython",
    "version": 3
   },
   "file_extension": ".py",
   "mimetype": "text/x-python",
   "name": "python",
   "nbconvert_exporter": "python",
   "pygments_lexer": "ipython3",
   "version": "3.7.4"
  }
 },
 "nbformat": 4,
 "nbformat_minor": 4
}
