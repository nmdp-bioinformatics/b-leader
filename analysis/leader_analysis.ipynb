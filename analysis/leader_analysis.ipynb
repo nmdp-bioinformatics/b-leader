{
 "cells": [
  {
   "cell_type": "code",
   "execution_count": null,
   "metadata": {},
   "outputs": [],
   "source": [
    "#\n",
    "# Copyright (c) 2022 Be The Match.\n",
    "#\n",
    "# This file is part of BLEAT \n",
    "# (see https://github.com/nmdp-bioinformatics/b-leader).\n",
    "#\n",
    "# This program is free software: you can redistribute it and/or modify\n",
    "# it under the terms of the GNU Lesser General Public License as published by\n",
    "# the Free Software Foundation, either version 3 of the License, or\n",
    "# (at your option) any later version.\n",
    "#\n",
    "# This program is distributed in the hope that it will be useful,\n",
    "# but WITHOUT ANY WARRANTY; without even the implied warranty of\n",
    "# MERCHANTABILITY or FITNESS FOR A PARTICULAR PURPOSE.  See the\n",
    "# GNU Lesser General Public License for more details.\n",
    "#\n",
    "# You should have received a copy of the GNU Lesser General Public License\n",
    "# along with this program. If not, see <http://www.gnu.org/licenses/>.\n",
    "#\n",
    "%load_ext jupyternotify\n",
    "%load_ext autoreload\n",
    "%autoreload 2\n",
    "\n",
    "import requests\n",
    "import json\n",
    "import regex\n",
    "import re\n",
    "import time\n",
    "import pandas as pd\n",
    "import numpy as np\n",
    "import operator\n",
    "from Bio import SeqIO\n",
    "from Bio.Seq import Seq\n",
    "from Bio.Alphabet import IUPAC\n",
    "\n",
    "from bleader_seq.sequence import Sequence\n",
    "from bleader_seq.hlab_map import HlaBMap\n",
    "from bleader_seq.allele_list import AlleleList\n",
    "from bleader_seq.subject import Subject\n",
    "from bleader_seq.allele_family import AlleleFamily, Seq\n",
    "from bleader_seq.leaders import Leaders\n",
    "from bleader_seq.allele import Allele"
   ]
  },
  {
   "cell_type": "markdown",
   "metadata": {},
   "source": [
    "## Leader Map"
   ]
  },
  {
   "cell_type": "code",
   "execution_count": null,
   "metadata": {
    "scrolled": false
   },
   "outputs": [],
   "source": [
    "leader_map = pd.read_csv(\"../data/table/leader_map.csv\", \n",
    "                         names=['Allele', 'Leader'])\n",
    "leader_map[\"Allele\"] = \"HLA-\" + leader_map[\"Allele\"]\n",
    "leader_map[\"Leader\"][leader_map[\"Leader\"] == '-'] = 'M'\n",
    "leader_map = leader_map.set_index('Allele').to_dict()['Leader']"
   ]
  },
  {
   "cell_type": "code",
   "execution_count": null,
   "metadata": {},
   "outputs": [],
   "source": [
    "n_alleles = len(leader_map)\n",
    "defined_n_alleles = len([leader for leader in leader_map.values() if leader != '*'])\n",
    "coverage = defined_n_alleles / n_alleles * 100\n",
    "print(\"Coverage is (%.2f%%) %s/%s\" % (coverage, defined_n_alleles, n_alleles))"
   ]
  },
  {
   "cell_type": "code",
   "execution_count": null,
   "metadata": {},
   "outputs": [],
   "source": [
    "len(leader_map)"
   ]
  },
  {
   "cell_type": "markdown",
   "metadata": {},
   "source": [
    "# Subjects Import"
   ]
  },
  {
   "cell_type": "markdown",
   "metadata": {},
   "source": [
    "Subjects were generated as a dictionary of ID's to Subject objects (containing sequences and metadata) in a separate, private notebook. They were pickled for loading here."
   ]
  },
  {
   "cell_type": "code",
   "execution_count": null,
   "metadata": {},
   "outputs": [],
   "source": [
    "subject_file = \"data/cohort-1-011021.p\""
   ]
  },
  {
   "cell_type": "markdown",
   "metadata": {},
   "source": [
    "Contains filters:\n",
    "    - Only two leader peptides\n",
    "    - PacBIO and NGS-WG only\n",
    "    - QC IDs filtered out\n",
    "    - RES projects filtered out\n",
    "    - NMDP verified IDs only\n",
    "    - Duplicate sequences (when there's heterozygous alleles)"
   ]
  },
  {
   "cell_type": "code",
   "execution_count": null,
   "metadata": {},
   "outputs": [],
   "source": [
    "import pickle\n",
    "with open(subject_file, \"rb\") as openfile:\n",
    "    subjects = pickle.load(openfile)"
   ]
  },
  {
   "cell_type": "code",
   "execution_count": null,
   "metadata": {},
   "outputs": [],
   "source": [
    "len(subjects)"
   ]
  },
  {
   "cell_type": "markdown",
   "metadata": {},
   "source": [
    "There are 1,098,358 subjects to be loaded.\n",
    "\n",
    "**Note:** Due to the large amount of data being loaded, this step will take almost an hour to complete."
   ]
  },
  {
   "cell_type": "markdown",
   "metadata": {},
   "source": [
    "# Cohort Characterization"
   ]
  },
  {
   "cell_type": "markdown",
   "metadata": {},
   "source": [
    "## Alleles"
   ]
  },
  {
   "cell_type": "code",
   "execution_count": null,
   "metadata": {},
   "outputs": [],
   "source": [
    "import sys\n",
    "sys.path.insert(1, '../..')\n",
    "from bleader.hla_b import HlaBAllotype"
   ]
  },
  {
   "cell_type": "code",
   "execution_count": null,
   "metadata": {},
   "outputs": [],
   "source": [
    "len(subjects)"
   ]
  },
  {
   "cell_type": "code",
   "execution_count": null,
   "metadata": {},
   "outputs": [],
   "source": [
    "len([allele_list for subject in subjects.values() for allele_list in subject.alleles.values()])"
   ]
  },
  {
   "cell_type": "code",
   "execution_count": null,
   "metadata": {},
   "outputs": [],
   "source": [
    "all_alleles = []\n",
    "num_diff_fields = 0\n",
    "num_fields_set = []\n",
    "num_split_alleles = 0\n",
    "for subject in subjects.values():\n",
    "    for allele_list in subject.alleles.values():\n",
    "        num_fields = set()\n",
    "        split_alleles = allele_list.allele_list.split('/')\n",
    "        if len(split_alleles) > 1:\n",
    "            num_split_alleles += 1\n",
    "        for allele in split_alleles:\n",
    "            all_alleles.append(allele)\n",
    "            num_fields.add(len(allele.split(':')))\n",
    "        if len(num_fields) > 1:\n",
    "            num_diff_fields += 1\n",
    "            print(allele_list.allele_list)\n",
    "        else:\n",
    "            num_fields_set.append(num_fields.pop())"
   ]
  },
  {
   "cell_type": "code",
   "execution_count": null,
   "metadata": {},
   "outputs": [],
   "source": [
    "num_split_alleles"
   ]
  },
  {
   "cell_type": "code",
   "execution_count": null,
   "metadata": {},
   "outputs": [],
   "source": [
    "pd.Series(num_fields_set).value_counts()"
   ]
  },
  {
   "cell_type": "markdown",
   "metadata": {},
   "source": [
    "- 4    1590640\n",
    "- 3     561613\n",
    "- 2      44451"
   ]
  },
  {
   "cell_type": "code",
   "execution_count": null,
   "metadata": {
    "scrolled": true
   },
   "outputs": [],
   "source": [
    "num_diff_fields"
   ]
  },
  {
   "cell_type": "markdown",
   "metadata": {},
   "source": [
    "12 allele lists have different numbers of fields"
   ]
  },
  {
   "cell_type": "code",
   "execution_count": null,
   "metadata": {},
   "outputs": [],
   "source": [
    "len(all_alleles)"
   ]
  },
  {
   "cell_type": "code",
   "execution_count": null,
   "metadata": {},
   "outputs": [],
   "source": [
    "unique_alleles = set(all_alleles)"
   ]
  },
  {
   "cell_type": "code",
   "execution_count": null,
   "metadata": {
    "scrolled": false
   },
   "outputs": [],
   "source": [
    "len(unique_alleles)"
   ]
  },
  {
   "cell_type": "code",
   "execution_count": null,
   "metadata": {},
   "outputs": [],
   "source": [
    "xx_alleles = []\n",
    "g_groups = []\n",
    "for allele in unique_alleles:\n",
    "    allele = HlaBAllotype(allele.replace('HLA-',''))\n",
    "    if \"XX\" in allele.name:\n",
    "        xx_alleles.append(allele)\n",
    "    elif allele.g_group:\n",
    "        g_groups.append(allele)\n",
    "    else:\n",
    "        if any([bool(re.match(\"[A-Z]+\", field)) for field in allele.fields if field]):\n",
    "            print(allele)\n",
    "        else:\n",
    "            if allele.resolution != 'high':\n",
    "                print(allele)\n",
    "                print(allele.__dict__)"
   ]
  },
  {
   "cell_type": "code",
   "execution_count": null,
   "metadata": {},
   "outputs": [],
   "source": [
    "len(g_groups)"
   ]
  },
  {
   "cell_type": "code",
   "execution_count": null,
   "metadata": {},
   "outputs": [],
   "source": [
    "len(xx_alleles)"
   ]
  },
  {
   "cell_type": "markdown",
   "metadata": {},
   "source": [
    "- There is one MAC B\\*39:BMFM\n",
    "- 5,316,509 alleles within the list\n",
    "- 2,259 unique alleles\n",
    "- 44 G groups\n",
    "- 30 XX alleles"
   ]
  },
  {
   "cell_type": "markdown",
   "metadata": {},
   "source": [
    "### Project Names"
   ]
  },
  {
   "cell_type": "code",
   "execution_count": null,
   "metadata": {},
   "outputs": [],
   "source": [
    "pd.Series([subject.project for subject in subjects.values()]).value_counts()"
   ]
  },
  {
   "cell_type": "markdown",
   "metadata": {},
   "source": [
    "## Sequences"
   ]
  },
  {
   "cell_type": "markdown",
   "metadata": {},
   "source": [
    "### Primers"
   ]
  },
  {
   "cell_type": "code",
   "execution_count": null,
   "metadata": {
    "scrolled": true
   },
   "outputs": [],
   "source": [
    "pd.Series([str(allele.whole_NTs[:18]) + '-' + str(allele.whole_NTs[-18:] + '-' + str(len(allele.whole_NTs)))\n",
    "               for i, subject in enumerate(subjects.values())\n",
    "               for allele in subject.alleles.values()]).value_counts()"
   ]
  },
  {
   "cell_type": "markdown",
   "metadata": {},
   "source": [
    "- CACCCACCCGGACTCAGA-GTGTCTCTCACAGCTTGA-2712    482192\n",
    "- CACCCACCCGGACTCAGA-GTGTCTCTCACAGCTTGA-2725    436819\n",
    "- CACCCACCCGGACTCAGA-GTGTCTCTCACAGCTTGA-2711    308625\n",
    "- CACCCACCCGGACTCAAA-GTGTCTCTCACAGCTTGA-2725    126373\n",
    "- CACCCACCCGGACTCAGA-GTGTCTCTCACAGCTTGA-2713    101886\n",
    "                                               ...  \n",
    "- GGGCTCTCAGGGTCTCAG-TGGGGTCTAGAGTGGGCG-2962         1\n",
    "- CACCCACCCGGACTCAGA-GTGTCTCTCACAGCTTGA-2685         1\n",
    "- CAGGTCACGGGCTCTCAG-GAGGGACCGAGATGCAGC-3167         1\n",
    "- GGGCTCTCAGTGTCTCAG-GGGTCTAGAGTGGGCGGG-2978         1\n",
    "- GGGCTCTCAGGTCTCAGG-GAGGGACTGAGATGCAGC-3135         1\n",
    "- Length: 1225, dtype: int64"
   ]
  },
  {
   "cell_type": "markdown",
   "metadata": {},
   "source": [
    "### Lengths"
   ]
  },
  {
   "cell_type": "code",
   "execution_count": null,
   "metadata": {},
   "outputs": [],
   "source": [
    "lengths = [len(allele.whole_NTs) for subject in subjects.values()\n",
    "                         for allele in subject.alleles.values()]"
   ]
  },
  {
   "cell_type": "code",
   "execution_count": null,
   "metadata": {},
   "outputs": [],
   "source": [
    "with pd.option_context('display.max_rows', None, 'display.max_columns', None): \n",
    "    print(pd.Series(lengths).value_counts(normalize=True))"
   ]
  },
  {
   "cell_type": "code",
   "execution_count": null,
   "metadata": {},
   "outputs": [],
   "source": [
    "from scipy import stats"
   ]
  },
  {
   "cell_type": "code",
   "execution_count": null,
   "metadata": {
    "scrolled": true
   },
   "outputs": [],
   "source": [
    "import statistics\n",
    "print('- Average length is %.2f out of %s sequences' % (sum(lengths)/len(lengths), len(lengths)))\n",
    "print('- The standard deviation is %.2f' % statistics.stdev(lengths))\n",
    "print('- Minimimum is %s. Maximum is %s.' % (min(lengths), max(lengths)))\n",
    "print('- Mode is %s.' % max(set(lengths), key=lengths.count))\n",
    "q25, q50, q75 = np.percentile(lengths, [25, 50, 75])\n",
    "print(\"- Q25: %s, Median: %s, Q75: %s\" % (q25, q50, q75))"
   ]
  },
  {
   "cell_type": "markdown",
   "metadata": {},
   "source": [
    "- Average length is 2851.34 out of 2196716 sequences\n",
    "- The standard deviation is 449.27\n",
    "- Minimimum is 1012. Maximum is 6836.\n",
    "- Mode is 2725.\n",
    "- Q25: 2712.0, Median: 2724.0, Q75: 2725.0"
   ]
  },
  {
   "cell_type": "markdown",
   "metadata": {},
   "source": [
    "## Leader Peptides"
   ]
  },
  {
   "cell_type": "code",
   "execution_count": null,
   "metadata": {
    "scrolled": false
   },
   "outputs": [],
   "source": [
    "leader_peps = {}\n",
    "exon1_seqs = {}\n",
    "for subject in subjects.values():\n",
    "    for allele in subject.alleles.values():\n",
    "        leader_pep = allele.leader_peptide\n",
    "        race = subject.broad_race\n",
    "        if leader_pep not in leader_peps:\n",
    "            leader_peps[leader_pep] = Leaders(leader_pep)\n",
    "        leader_peps[leader_pep].add_leader(allele, race)\n",
    "        \n",
    "        exon1_seq = allele.exon1_NTs\n",
    "        leader_NTs = allele.exon1_NTs[6:33]\n",
    "        if Sequence('').translate(leader_NTs) != leader_pep:\n",
    "            print(\"ERROR\", subject)\n",
    "            break\n",
    "        if leader_NTs not in exon1_seqs:\n",
    "            exon1_seqs[leader_NTs] = Seq(leader_NTs)\n",
    "        exon1_seqs[leader_NTs].add_leader(allele, race)\n",
    "total = sum([leaders.count for leaders in leader_peps.values()])\n",
    "print(\"There are %s number of alleles\" % total)"
   ]
  },
  {
   "cell_type": "code",
   "execution_count": null,
   "metadata": {
    "scrolled": true
   },
   "outputs": [],
   "source": [
    "leader_peps['VTAPRTLLL'].count\n",
    "leaders = {}\n",
    "for leader_seq, leader_pep in leader_peps.items():\n",
    "    leader = leader_seq[1]\n",
    "    if leader not in leaders:\n",
    "        leaders[leader] = 0\n",
    "    leaders[leader] += leader_pep.count\n",
    "leaders\n",
    "total_peps = sum(leaders.values())\n",
    "for leader, count in leaders.items():\n",
    "    print(leader, count, count / total_peps)"
   ]
  },
  {
   "cell_type": "markdown",
   "metadata": {},
   "source": [
    "There are 26 unique nonamer peptides"
   ]
  },
  {
   "cell_type": "code",
   "execution_count": null,
   "metadata": {},
   "outputs": [],
   "source": [
    "len(set(leader_peps.keys()))"
   ]
  },
  {
   "cell_type": "markdown",
   "metadata": {},
   "source": [
    "### Exon 1 Seqs (Tables 1 + 4)"
   ]
  },
  {
   "cell_type": "code",
   "execution_count": null,
   "metadata": {
    "scrolled": true
   },
   "outputs": [],
   "source": [
    "order = ['AFA', 'API', 'CAU', 'HIS', 'NAM', 'MLT', 'UNK']\n",
    "\n",
    "leaders_df = pd.DataFrame([[Sequence('').translate(pep.name), \n",
    "                            Sequence(pep.name, \n",
    "                                     ref_sequence=Sequence(\"GTCATGGCGCCCCGAACCGTCCTCCTG\")) \\\n",
    "                                    .formatted()] +\n",
    "                           [race in pep.broad_races and pep.broad_races[race]\n",
    "               or 0\n",
    "               for race in order] +\n",
    "              [pep.count] for pep in exon1_seqs.values()],\n",
    "            columns=['Peptide', 'Sequence'] + order + ['Total'])\n",
    "leader_cols = leaders_df.columns\n",
    "leader_cols = leader_cols[leader_cols != 'Peptide']\n",
    "for col in leader_cols:\n",
    "    leaders_df[col] = leaders_df[col] \\\n",
    "        .apply(lambda x : x or 0)\n",
    "leaders_df = leaders_df[leaders_df['Total'] > 0] \\\n",
    "    .sort_values(by=\"Total\", ascending=False)\n",
    "\n",
    "# # Add percentages\n",
    "# for broad_race in order:\n",
    "#     leaders_df[broad_race] = leaders_df[broad_race] / leaders_df[\"Total\"]\n",
    "print(total)\n",
    "print(leaders_df)\n",
    "leaders_df.to_csv('results/tables_1&4_leader_peptide_seqs.csv')"
   ]
  },
  {
   "cell_type": "markdown",
   "metadata": {},
   "source": [
    "# Allele Family"
   ]
  },
  {
   "cell_type": "code",
   "execution_count": null,
   "metadata": {
    "scrolled": false
   },
   "outputs": [],
   "source": [
    "allele_families = {}\n",
    "alleles = {}\n",
    "num_alleles = 0\n",
    "for subject in subjects.values():\n",
    "    for allele_index, allele_list in subject.alleles.items():\n",
    "        num_alleles += 1\n",
    "        allele_list.id = subject.id\n",
    "        family = allele_list.allele_family\n",
    "        if not family:\n",
    "            print(allele_list)\n",
    "        if family not in allele_families:\n",
    "            allele_families[family] = AlleleFamily(family)\n",
    "        if allele_list.leader_peptide or True:\n",
    "            allele_families[family].add_allele(allele_list, subject.broad_race)\n",
    "\n",
    "            for allele in allele_list.allele_list.split('/'):\n",
    "                if allele not in alleles:\n",
    "                    alleles[allele] = Allele(allele)\n",
    "                alleles[allele].add_allele(allele_list, subject.broad_race)\n",
    "        else:\n",
    "            print(allele_list)\n",
    "# print(alleles)"
   ]
  },
  {
   "cell_type": "markdown",
   "metadata": {},
   "source": [
    "## Allele Family Table (Table 2)"
   ]
  },
  {
   "cell_type": "code",
   "execution_count": null,
   "metadata": {
    "scrolled": true
   },
   "outputs": [],
   "source": [
    "for i, allele_family_name in enumerate(sorted(allele_families.keys())):\n",
    "    allele_family = allele_families[allele_family_name]\n",
    "    data = {}\n",
    "    total_count = sum([leader.count for leader in allele_family.leaders.values()])\n",
    "    for leader in allele_family.leaders.values():\n",
    "        leaders = allele_family.leaders[leader.name]\n",
    "        leader_name = leader.name\n",
    "        if leader.name not in ['M', 'T']:\n",
    "            leader_name = 'Other'\n",
    "        data['Allele Family'] = [allele_family.name]\n",
    "        data[leader_name] = ['Total']\n",
    "        data[leader_name + ' counts'] = [leaders.count]\n",
    "    family_df = pd.DataFrame(data)\n",
    "    if i == 0:\n",
    "        families_df = family_df\n",
    "    else:\n",
    "        families_df = families_df.append(family_df)\n",
    "\n",
    "# Apply totals row-wise\n",
    "def get_cols(df, substring):\n",
    "    return list(df.columns[df.columns.str.contains(substring)])\n",
    "count_cols = get_cols(families_df, 'counts')\n",
    "families_df.fillna(0, inplace=True)\n",
    "families_df['Total'] = families_df.apply(lambda row: sum([row[count_col] for count_col in count_cols]), axis=1)\n",
    "\n",
    "# Apply totals column-wise\n",
    "totals = {'Allele Family' : ['Total'],\n",
    "           'M' : [''],\n",
    "           'M counts' : [families_df['M counts'].sum()],\n",
    "           'T' : [''],\n",
    "           'T counts' : [families_df['T counts'].sum()],\n",
    "           'Other counts' : [families_df['Other counts'].sum()],\n",
    "           'Total' : [families_df['Total'].sum()]\n",
    "         }\n",
    "total_df = pd.DataFrame(totals)\n",
    "\n",
    "# Apply percentages\n",
    "def label_perc(row, header):\n",
    "    return \"%.0f (%.2f%%)\" % (row[header], (row[header] / row['Total'] * 100))\n",
    "for count_col in count_cols:\n",
    "    families_df[count_col] = families_df.apply(lambda row: label_perc(row, count_col), axis=1)\n",
    "\n",
    "# Append totals and drop columns, empty values; export\n",
    "families_df = families_df.append(total_df) \\\n",
    "    .drop(columns=[\"M\", \"T\", \"Other\"]) #\"M percentages\", \"T percentages\", \"Other percentages\"])\n",
    "families_df.replace('0 (0.00%)', '-', inplace=True)\n",
    "families_df.to_csv('results/table_2_allele_families_leaders.csv', index=False)"
   ]
  },
  {
   "cell_type": "markdown",
   "metadata": {},
   "source": [
    "### Minor :XX Alleles"
   ]
  },
  {
   "cell_type": "markdown",
   "metadata": {},
   "source": [
    "#### B07 family"
   ]
  },
  {
   "cell_type": "code",
   "execution_count": null,
   "metadata": {
    "scrolled": true
   },
   "outputs": [],
   "source": [
    "allele_t = allele_families['07'].leaders['T'].alleles[0]"
   ]
  },
  {
   "cell_type": "code",
   "execution_count": null,
   "metadata": {
    "scrolled": false
   },
   "outputs": [],
   "source": [
    "allele_t.allele_list"
   ]
  },
  {
   "cell_type": "code",
   "execution_count": null,
   "metadata": {
    "scrolled": true
   },
   "outputs": [],
   "source": [
    "allele_families['07'].leaders['T']"
   ]
  },
  {
   "cell_type": "code",
   "execution_count": null,
   "metadata": {
    "scrolled": true
   },
   "outputs": [],
   "source": [
    "hla_db.align_allele_family('B*07:02:01:01', str(allele_t.whole_NTs), \n",
    "                           diff_limit=10, verbose=True, verbosity=2)"
   ]
  },
  {
   "cell_type": "code",
   "execution_count": null,
   "metadata": {},
   "outputs": [],
   "source": [
    "hla_db.alleles['B*07:390'].gene_features.seq.alignment"
   ]
  },
  {
   "cell_type": "code",
   "execution_count": null,
   "metadata": {},
   "outputs": [],
   "source": [
    "hla_db.alleles['B*07:02:01:01'].gene_features.seq"
   ]
  },
  {
   "cell_type": "markdown",
   "metadata": {},
   "source": [
    "- The T minor allele closely matches B\\*07:02:01:01. 5 differences on exon 1 (-G- - -C- --A) and 3' UTR (C---------C).\n",
    "- Matches closer with B\\*07:390. Same protein (2 missense substitutions compared to B\\*07:02:01:01) but has 1 synonymous mutation within coding region (G->A) and three mutations outside coding region."
   ]
  },
  {
   "cell_type": "code",
   "execution_count": null,
   "metadata": {},
   "outputs": [],
   "source": [
    "hla_db.align_allele_family('B*07:02:01:02', str(allele_t.whole_NTs), limits=[255, 302],\n",
    "                           verbose=True, verbosity=1)"
   ]
  },
  {
   "cell_type": "code",
   "execution_count": null,
   "metadata": {},
   "outputs": [],
   "source": [
    "allele_v = allele_families['07'].leaders['V'].alleles[0]"
   ]
  },
  {
   "cell_type": "code",
   "execution_count": null,
   "metadata": {},
   "outputs": [],
   "source": [
    "allele_families['07'].leaders['V']"
   ]
  },
  {
   "cell_type": "code",
   "execution_count": null,
   "metadata": {
    "scrolled": true
   },
   "outputs": [],
   "source": [
    "hla_db.align('B*07:371', str(allele_v.whole_NTs), verbose=True, verbosity=2)"
   ]
  },
  {
   "cell_type": "markdown",
   "metadata": {},
   "source": [
    "V variant is B\\*07:371"
   ]
  },
  {
   "cell_type": "markdown",
   "metadata": {},
   "source": [
    "#### B08 family"
   ]
  },
  {
   "cell_type": "markdown",
   "metadata": {},
   "source": [
    "M leader majority. One instance of T minor leader"
   ]
  },
  {
   "cell_type": "code",
   "execution_count": null,
   "metadata": {},
   "outputs": [],
   "source": [
    "alleles['HLA-B*08:XX'].leaders"
   ]
  },
  {
   "cell_type": "markdown",
   "metadata": {},
   "source": [
    "##### Major Leaders (M)"
   ]
  },
  {
   "cell_type": "code",
   "execution_count": null,
   "metadata": {},
   "outputs": [],
   "source": [
    "major_08XXs = [str(allele.whole_NTs) for allele in alleles['HLA-B*08:XX'].leaders['M'].alleles]"
   ]
  },
  {
   "cell_type": "code",
   "execution_count": null,
   "metadata": {},
   "outputs": [],
   "source": [
    "print(\"Length: %s. Unique length: %s\" % (len(major_08XXs), len(set(major_08XXs))))"
   ]
  },
  {
   "cell_type": "markdown",
   "metadata": {},
   "source": [
    "49 sequences. 38 unique sequences"
   ]
  },
  {
   "cell_type": "code",
   "execution_count": null,
   "metadata": {
    "scrolled": true
   },
   "outputs": [],
   "source": [
    "aligned_allele_sets = []\n",
    "for i, major_08XX in enumerate(set(major_08XXs)):\n",
    "    print(i)\n",
    "    aligned_allele_set = hla_db.align_allele_family('08', major_08XX)\n",
    "    aligned_allele_sets.append(aligned_allele_set)"
   ]
  },
  {
   "cell_type": "markdown",
   "metadata": {},
   "source": [
    "##### Minor Leader (T)"
   ]
  },
  {
   "cell_type": "code",
   "execution_count": null,
   "metadata": {},
   "outputs": [],
   "source": [
    "alleles['HLA-B*08:XX'].leaders['T']"
   ]
  },
  {
   "cell_type": "markdown",
   "metadata": {},
   "source": [
    "Minor leader is a B\\*08:207 variant with one substition"
   ]
  },
  {
   "cell_type": "code",
   "execution_count": null,
   "metadata": {
    "scrolled": false
   },
   "outputs": [],
   "source": [
    "minor_08xx = str(alleles['HLA-B*08:XX'].leaders['T'].alleles[0].whole_NTs)\n",
    "# hla_db.align_allele_family('B*08', minor_08xx, diff_limit=10, verbose=True)"
   ]
  },
  {
   "cell_type": "code",
   "execution_count": null,
   "metadata": {
    "scrolled": false
   },
   "outputs": [],
   "source": [
    "hla_db.align('B*08:207', minor_08xx, limits=[36, 102], verbose=True, verbosity=1)"
   ]
  },
  {
   "cell_type": "markdown",
   "metadata": {},
   "source": [
    "#### Subject Lookup"
   ]
  },
  {
   "cell_type": "code",
   "execution_count": null,
   "metadata": {},
   "outputs": [],
   "source": [
    "alleles['HLA-B*08:XX'].leaders['T'].alleles[0].id"
   ]
  },
  {
   "cell_type": "markdown",
   "metadata": {},
   "source": [
    "In HML, listed as 'B\\*08:01:01+B\\*08:XX'. On CORE, reported as 'B\\*08:01'+'B\\*08:01:01G'."
   ]
  },
  {
   "cell_type": "markdown",
   "metadata": {},
   "source": [
    "#### B13"
   ]
  },
  {
   "cell_type": "markdown",
   "metadata": {},
   "source": [
    "T leader majority. One instance of M minor leader"
   ]
  },
  {
   "cell_type": "code",
   "execution_count": null,
   "metadata": {},
   "outputs": [],
   "source": [
    "alleles['HLA-B*13:XX'].leaders"
   ]
  },
  {
   "cell_type": "markdown",
   "metadata": {},
   "source": [
    "##### Major Leaders (T)"
   ]
  },
  {
   "cell_type": "code",
   "execution_count": null,
   "metadata": {},
   "outputs": [],
   "source": [
    "major_13XXs = [str(allele.whole_NTs) for allele in alleles['HLA-B*13:XX'].leaders['T'].alleles]"
   ]
  },
  {
   "cell_type": "code",
   "execution_count": null,
   "metadata": {},
   "outputs": [],
   "source": [
    "print(\"Length: %s. Unique length: %s\" % (len(major_13XXs), len(set(major_13XXs))))"
   ]
  },
  {
   "cell_type": "markdown",
   "metadata": {},
   "source": [
    "21 sequences. 13 unique sequences"
   ]
  },
  {
   "cell_type": "markdown",
   "metadata": {},
   "source": [
    "##### Minor Leader (M)"
   ]
  },
  {
   "cell_type": "markdown",
   "metadata": {},
   "source": [
    "Minor leader is found to be B\\*13:117"
   ]
  },
  {
   "cell_type": "code",
   "execution_count": null,
   "metadata": {},
   "outputs": [],
   "source": [
    "alleles['HLA-B*13:XX'].leaders['M']"
   ]
  },
  {
   "cell_type": "code",
   "execution_count": null,
   "metadata": {
    "scrolled": true
   },
   "outputs": [],
   "source": [
    "minor_13xx = str(alleles['HLA-B*13:XX'].leaders['M'].alleles[0].whole_NTs)\n",
    "hla_db.align_allele_family('13:117', minor_13xx, verbose=True, diff_limit=2, verbosity=1)"
   ]
  },
  {
   "cell_type": "markdown",
   "metadata": {},
   "source": [
    "##### Subject Lookup"
   ]
  },
  {
   "cell_type": "code",
   "execution_count": null,
   "metadata": {
    "scrolled": true
   },
   "outputs": [],
   "source": [
    "alleles['HLA-B*13:XX'].leaders['M'].alleles[0].id"
   ]
  },
  {
   "cell_type": "markdown",
   "metadata": {},
   "source": [
    "Reported as B\\*13:XX+B\\*44:03:02"
   ]
  },
  {
   "cell_type": "markdown",
   "metadata": {},
   "source": [
    "#### B15"
   ]
  },
  {
   "cell_type": "code",
   "execution_count": null,
   "metadata": {},
   "outputs": [],
   "source": [
    "print(allele_families['15'].leaders['M'].alleles[0].allele_list)\n",
    "print(allele_families['15'].leaders['M'].alleles[1].allele_list)"
   ]
  },
  {
   "cell_type": "markdown",
   "metadata": {},
   "source": [
    "#### B18"
   ]
  },
  {
   "cell_type": "markdown",
   "metadata": {},
   "source": [
    "T leader majority. One instance of M minor leader"
   ]
  },
  {
   "cell_type": "code",
   "execution_count": null,
   "metadata": {},
   "outputs": [],
   "source": [
    "alleles['HLA-B*18:XX'].leaders"
   ]
  },
  {
   "cell_type": "code",
   "execution_count": null,
   "metadata": {},
   "outputs": [],
   "source": [
    "allele_families['18']"
   ]
  },
  {
   "cell_type": "markdown",
   "metadata": {},
   "source": [
    "##### Minor Leader (M)"
   ]
  },
  {
   "cell_type": "markdown",
   "metadata": {},
   "source": [
    "There are three counts of an identical minor leader sequence."
   ]
  },
  {
   "cell_type": "code",
   "execution_count": null,
   "metadata": {},
   "outputs": [],
   "source": [
    "minor_XXs = [str(allele.whole_NTs) for allele in alleles['HLA-B*18:XX'].leaders['M'].alleles]\n",
    "len(set(minor_XXs))"
   ]
  },
  {
   "cell_type": "markdown",
   "metadata": {},
   "source": [
    "Difference of two nucleotides (one missense leader type mutation and one noncoding mutation ) for all of the following:\n",
    "- 'B\\*18:01:01:02'\n",
    "- 'B\\*18:01:01:04'\n",
    "- 'B\\*18:01:01:05'\n",
    "- 'B\\*18:01:01:16'\n",
    "- 'B\\*18:01:01:17'\n",
    "- 'B\\*18:01:01:20'\n",
    "- 'B\\*18:01:01:22'\n",
    "- 'B\\*18:01:01:47'\n",
    "- 'B\\*18:01:01:52'"
   ]
  },
  {
   "cell_type": "code",
   "execution_count": null,
   "metadata": {
    "scrolled": true
   },
   "outputs": [],
   "source": [
    "limits = [0,70]\n",
    "aligned_alleles = hla_db.align_allele_family('18:01:01', minor_XXs[0], diff_limit=3,\n",
    "                                             verbose=True, verbosity=1)"
   ]
  },
  {
   "cell_type": "markdown",
   "metadata": {},
   "source": [
    "##### Subject Lookup"
   ]
  },
  {
   "cell_type": "code",
   "execution_count": null,
   "metadata": {},
   "outputs": [],
   "source": [
    "[(allele.id, allele.source) for allele in alleles['HLA-B*18:XX'].leaders['M'].alleles]"
   ]
  },
  {
   "cell_type": "markdown",
   "metadata": {},
   "source": [
    "#### B27"
   ]
  },
  {
   "cell_type": "code",
   "execution_count": null,
   "metadata": {
    "scrolled": true
   },
   "outputs": [],
   "source": [
    "allele1 = allele_families['27'].leaders['M'].alleles[0]\n",
    "allele1.allele_list\n",
    "allele2 = subjects[allele.id].alleles['allele1']\n",
    "allele2.allele_list"
   ]
  },
  {
   "cell_type": "code",
   "execution_count": null,
   "metadata": {
    "scrolled": true
   },
   "outputs": [],
   "source": [
    "str(allele1.whole_NTs) == str(allele2.whole_NTs)"
   ]
  },
  {
   "cell_type": "markdown",
   "metadata": {},
   "source": [
    "#### B35"
   ]
  },
  {
   "cell_type": "markdown",
   "metadata": {},
   "source": [
    "T leader majority. One instance of M minor leader"
   ]
  },
  {
   "cell_type": "code",
   "execution_count": null,
   "metadata": {
    "scrolled": true
   },
   "outputs": [],
   "source": [
    "alleles['HLA-B*35:XX'].leaders"
   ]
  },
  {
   "cell_type": "code",
   "execution_count": null,
   "metadata": {},
   "outputs": [],
   "source": [
    "allele_families['35']"
   ]
  },
  {
   "cell_type": "markdown",
   "metadata": {},
   "source": [
    "##### Minor Leader (M)"
   ]
  },
  {
   "cell_type": "markdown",
   "metadata": {},
   "source": [
    "There are 3 unique sequences out of 26 total"
   ]
  },
  {
   "cell_type": "code",
   "execution_count": null,
   "metadata": {},
   "outputs": [],
   "source": [
    "minor_XXs = [str(allele.whole_NTs) for allele in alleles['HLA-B*35:XX'].leaders['M'].alleles]\n",
    "print(\"Length: %s. Unique length: %s\" % (len(minor_XXs), len(set(minor_XXs))))"
   ]
  },
  {
   "cell_type": "code",
   "execution_count": null,
   "metadata": {
    "scrolled": true
   },
   "outputs": [],
   "source": [
    "minor_XXs_df = pd.DataFrame(pd.Series(minor_XXs).value_counts())\n",
    "minor_XXs_df.reset_index(inplace=True)\n",
    "minor_XXs_df.columns = ['Sequence', 'Counts']\n",
    "minor_XXs_df"
   ]
  },
  {
   "cell_type": "markdown",
   "metadata": {},
   "source": [
    "All minor B\\*35:XX sequences align to the following by 3 of the same substitutions:\n",
    "- B\\*35:01:01:01\n",
    "- B\\*35:01:01:02\n",
    "- B\\*35:01:01:04\n",
    "- B\\*35:01:01:05\n",
    "- B\\*35:01:01:06\n",
    "- B\\*35:01:01:13\n",
    "- B\\*35:01:01:14\n",
    "- B\\*35:01:01:16\n",
    "- B\\*35:01:01:18\n",
    "- B\\*35:01:01:19\n",
    "- B\\*35:01:01:49\n",
    "- B\\*35:01:01:51\n",
    "\n",
    "Check this:\n",
    "- B\\*35:447 (4 differences but it says 3)\n"
   ]
  },
  {
   "cell_type": "code",
   "execution_count": null,
   "metadata": {
    "scrolled": true
   },
   "outputs": [],
   "source": [
    "aligned_allele_sets = []\n",
    "limits = [0, 47]\n",
    "for i, row in minor_XXs_df.iterrows():\n",
    "    if i == 1:\n",
    "        break\n",
    "    print(i, row['Counts'])\n",
    "    aligned_allele_set = hla_db.align_allele_family('', row['Sequence'], limits=limits, diff_limit=3, verbose=True, verbosity=0)\n",
    "    aligned_allele_sets.append(aligned_allele_set)"
   ]
  },
  {
   "cell_type": "markdown",
   "metadata": {},
   "source": [
    "##### Subject Lookup"
   ]
  },
  {
   "cell_type": "code",
   "execution_count": null,
   "metadata": {
    "scrolled": false
   },
   "outputs": [],
   "source": [
    "[(allele.id, allele.source) for allele in alleles['HLA-B*35:XX'].leaders['M'].alleles]"
   ]
  },
  {
   "cell_type": "markdown",
   "metadata": {},
   "source": [
    "Reported as B\\*35:XX (25), B\\*35:01:01G (1)"
   ]
  },
  {
   "cell_type": "markdown",
   "metadata": {},
   "source": [
    "#### B38"
   ]
  },
  {
   "cell_type": "code",
   "execution_count": null,
   "metadata": {
    "scrolled": true
   },
   "outputs": [],
   "source": [
    "allele1 = allele_families['38'].leaders['T'].alleles[0]\n",
    "print(allele1.allele_list)\n",
    "allele2 = subjects[allele1.id].alleles['allele1']\n",
    "# hla_db.align_allele_family(allele.allele_list.replace('HLA-',''),\n",
    "#                            str(allele.whole_NTs), verbose=True, verbosity=0)\n",
    "print(allele2.allele_list)\n",
    "allele1.whole_NTs == allele2.whole_NTs"
   ]
  },
  {
   "cell_type": "markdown",
   "metadata": {},
   "source": [
    "#### B39"
   ]
  },
  {
   "cell_type": "code",
   "execution_count": null,
   "metadata": {
    "scrolled": true
   },
   "outputs": [],
   "source": [
    "allele.id"
   ]
  },
  {
   "cell_type": "code",
   "execution_count": null,
   "metadata": {},
   "outputs": [],
   "source": [
    "allele = allele_families['39'].leaders['T'].alleles[0]\n",
    "# allele2 = subjects[allele1.id].alleles['allele1']\n",
    "hla_db.align_allele_family('B*39',\n",
    "                           str(allele.whole_NTs), verbose=True, verbosity=1)"
   ]
  },
  {
   "cell_type": "markdown",
   "metadata": {},
   "source": [
    "#### B40"
   ]
  },
  {
   "cell_type": "markdown",
   "metadata": {},
   "source": [
    "T leader majority. Two instances of M minor leader"
   ]
  },
  {
   "cell_type": "code",
   "execution_count": null,
   "metadata": {},
   "outputs": [],
   "source": [
    "alleles['HLA-B*40:XX'].leaders"
   ]
  },
  {
   "cell_type": "markdown",
   "metadata": {},
   "source": [
    "##### Minor Leader (M)"
   ]
  },
  {
   "cell_type": "markdown",
   "metadata": {},
   "source": [
    "There are two counts of an identical minor leader sequence."
   ]
  },
  {
   "cell_type": "code",
   "execution_count": null,
   "metadata": {},
   "outputs": [],
   "source": [
    "minor_XXs = [str(allele.whole_NTs) for allele in alleles['HLA-B*40:XX'].leaders['M'].alleles]\n",
    "len(set(minor_XXs))"
   ]
  },
  {
   "cell_type": "markdown",
   "metadata": {},
   "source": [
    "Found to be B\\*40:416"
   ]
  },
  {
   "cell_type": "code",
   "execution_count": null,
   "metadata": {
    "scrolled": true
   },
   "outputs": [],
   "source": [
    "limits = [0,108]\n",
    "limits = None\n",
    "aligned_alleles = hla_db.align_allele_family('40', minor_XXs[0], diff_limit=1, limits=limits, verbose=True, verbosity=0)"
   ]
  },
  {
   "cell_type": "markdown",
   "metadata": {},
   "source": [
    "##### Subject Lookup"
   ]
  },
  {
   "cell_type": "code",
   "execution_count": null,
   "metadata": {},
   "outputs": [],
   "source": [
    "[(allele.id, allele.source) for allele in alleles['HLA-B*40:XX'].leaders['M'].alleles]"
   ]
  },
  {
   "cell_type": "code",
   "execution_count": null,
   "metadata": {},
   "outputs": [],
   "source": [
    "allele_families['51'].leaders['M'].alleles[0].__dict__"
   ]
  },
  {
   "cell_type": "code",
   "execution_count": null,
   "metadata": {},
   "outputs": [],
   "source": [
    "str(allele.whole_NTs)"
   ]
  },
  {
   "cell_type": "code",
   "execution_count": null,
   "metadata": {},
   "outputs": [],
   "source": [
    "hla_db.get_processed_ref_seq(\"B*51:01:01:01\", str(allele.whole_NTs))"
   ]
  },
  {
   "cell_type": "code",
   "execution_count": null,
   "metadata": {},
   "outputs": [],
   "source": [
    "allele = allele_families['51'].leaders['M'].alleles[0]\n",
    "print(allele.allele_list)\n",
    "hla_db.align_allele_family(\"B*51:01:01:01\", \n",
    "                           str(allele.whole_NTs), diff_limit = 5, verbose=True, verbosity=1)"
   ]
  },
  {
   "cell_type": "markdown",
   "metadata": {},
   "source": [
    "#### B55"
   ]
  },
  {
   "cell_type": "markdown",
   "metadata": {},
   "source": [
    "T leader majority. One instances of 'R' minor leader"
   ]
  },
  {
   "cell_type": "code",
   "execution_count": null,
   "metadata": {},
   "outputs": [],
   "source": [
    "alleles['HLA-B*55:XX'].leaders"
   ]
  },
  {
   "cell_type": "code",
   "execution_count": null,
   "metadata": {},
   "outputs": [],
   "source": [
    "allele_families['55']"
   ]
  },
  {
   "cell_type": "markdown",
   "metadata": {},
   "source": [
    "##### Minor Leader (R)"
   ]
  },
  {
   "cell_type": "markdown",
   "metadata": {},
   "source": [
    "There are two counts of an identical minor leader sequence."
   ]
  },
  {
   "cell_type": "code",
   "execution_count": null,
   "metadata": {},
   "outputs": [],
   "source": [
    "minor_XXs = [str(allele.whole_NTs) for allele in alleles['HLA-B*55:XX'].leaders['R'].alleles]\n",
    "len(set(minor_XXs))"
   ]
  },
  {
   "cell_type": "markdown",
   "metadata": {},
   "source": [
    "Found to be B\\*55:91 (R)"
   ]
  },
  {
   "cell_type": "code",
   "execution_count": null,
   "metadata": {
    "scrolled": true
   },
   "outputs": [],
   "source": [
    "limits = [0,108]\n",
    "limits = None\n",
    "aligned_alleles = hla_db.align_allele_family('55', minor_XXs[0], diff_limit=1, limits=limits, verbose=True, verbosity=0)"
   ]
  },
  {
   "cell_type": "markdown",
   "metadata": {},
   "source": [
    "##### Subject Lookup"
   ]
  },
  {
   "cell_type": "code",
   "execution_count": null,
   "metadata": {},
   "outputs": [],
   "source": [
    "[(allele.id, allele.source) for allele in alleles['HLA-B*55:XX'].leaders['R'].alleles]"
   ]
  },
  {
   "cell_type": "markdown",
   "metadata": {},
   "source": [
    "#### B\\*58:01"
   ]
  },
  {
   "cell_type": "markdown",
   "metadata": {},
   "source": [
    "T leader majority. One instances of 'M' minor leader."
   ]
  },
  {
   "cell_type": "code",
   "execution_count": null,
   "metadata": {},
   "outputs": [],
   "source": [
    "alleles['HLA-B*58:01'].leaders"
   ]
  },
  {
   "cell_type": "markdown",
   "metadata": {},
   "source": [
    "##### Minor Leader (R)"
   ]
  },
  {
   "cell_type": "markdown",
   "metadata": {},
   "source": [
    "There are two counts of an identical minor leader sequence."
   ]
  },
  {
   "cell_type": "code",
   "execution_count": null,
   "metadata": {},
   "outputs": [],
   "source": [
    "minor_XXs = [str(allele.whole_NTs) for allele in alleles['HLA-B*58:01'].leaders['M'].alleles]\n",
    "len(set(minor_XXs))"
   ]
  },
  {
   "cell_type": "markdown",
   "metadata": {},
   "source": [
    "Found to be B\\*55:91 (R)"
   ]
  },
  {
   "cell_type": "code",
   "execution_count": null,
   "metadata": {
    "scrolled": true
   },
   "outputs": [],
   "source": [
    "limits = [0,47]\n",
    "# limits = None\n",
    "aligned_alleles = hla_db.align_allele_family('58', minor_XXs[0], diff_limit=3, limits=limits, verbose=True, verbosity=1)"
   ]
  },
  {
   "cell_type": "markdown",
   "metadata": {},
   "source": [
    "##### Subject Lookup"
   ]
  },
  {
   "cell_type": "code",
   "execution_count": null,
   "metadata": {},
   "outputs": [],
   "source": [
    "[(allele.id, allele.source) for allele in alleles['HLA-B*58:01'].leaders['M'].alleles]"
   ]
  },
  {
   "cell_type": "markdown",
   "metadata": {},
   "source": [
    "## Populations"
   ]
  },
  {
   "cell_type": "code",
   "execution_count": null,
   "metadata": {
    "scrolled": true
   },
   "outputs": [],
   "source": [
    "pd.Series([subject.broad_race for subject in subjects.values()]) \\\n",
    "    .value_counts(normalize=False)"
   ]
  },
  {
   "cell_type": "code",
   "execution_count": null,
   "metadata": {
    "scrolled": true
   },
   "outputs": [],
   "source": [
    "pd.Series([subject.broad_race for subject in subjects.values()]) \\\n",
    "    .value_counts(normalize=True)"
   ]
  }
 ],
 "metadata": {
  "kernelspec": {
   "display_name": "Python 3",
   "language": "python",
   "name": "python3"
  },
  "language_info": {
   "codemirror_mode": {
    "name": "ipython",
    "version": 3
   },
   "file_extension": ".py",
   "mimetype": "text/x-python",
   "name": "python",
   "nbconvert_exporter": "python",
   "pygments_lexer": "ipython3",
   "version": "3.7.6"
  }
 },
 "nbformat": 4,
 "nbformat_minor": 4
}
